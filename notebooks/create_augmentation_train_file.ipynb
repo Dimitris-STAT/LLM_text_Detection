{
 "cells": [
  {
   "cell_type": "code",
   "execution_count": 3,
   "id": "36256527",
   "metadata": {},
   "outputs": [
    {
     "name": "stdout",
     "output_type": "stream",
     "text": [
      "Shape for cars dataframe is : (1375, 2)\n",
      "Shape for elections dataframe is : (1375, 2)\n"
     ]
    },
    {
     "data": {
      "text/html": [
       "<div>\n",
       "<style scoped>\n",
       "    .dataframe tbody tr th:only-of-type {\n",
       "        vertical-align: middle;\n",
       "    }\n",
       "\n",
       "    .dataframe tbody tr th {\n",
       "        vertical-align: top;\n",
       "    }\n",
       "\n",
       "    .dataframe thead th {\n",
       "        text-align: right;\n",
       "    }\n",
       "</style>\n",
       "<table border=\"1\" class=\"dataframe\">\n",
       "  <thead>\n",
       "    <tr style=\"text-align: right;\">\n",
       "      <th></th>\n",
       "      <th>text</th>\n",
       "      <th>generated</th>\n",
       "      <th>essay_id</th>\n",
       "    </tr>\n",
       "  </thead>\n",
       "  <tbody>\n",
       "    <tr>\n",
       "      <th>1361</th>\n",
       "      <td>NaN</td>\n",
       "      <td>1</td>\n",
       "      <td>f671a4c8</td>\n",
       "    </tr>\n",
       "    <tr>\n",
       "      <th>16</th>\n",
       "      <td>/Ms. Fellow Citizen,\\r\\n\\r\\nI am writing to yo...</td>\n",
       "      <td>1</td>\n",
       "      <td>6de12188</td>\n",
       "    </tr>\n",
       "    <tr>\n",
       "      <th>1162</th>\n",
       "      <td>Imagine being stuck in traffic again for the f...</td>\n",
       "      <td>1</td>\n",
       "      <td>0e658847</td>\n",
       "    </tr>\n",
       "  </tbody>\n",
       "</table>\n",
       "</div>"
      ],
      "text/plain": [
       "                                                   text  generated  essay_id\n",
       "1361                                                NaN          1  f671a4c8\n",
       "16    /Ms. Fellow Citizen,\\r\\n\\r\\nI am writing to yo...          1  6de12188\n",
       "1162  Imagine being stuck in traffic again for the f...          1  0e658847"
      ]
     },
     "metadata": {},
     "output_type": "display_data"
    },
    {
     "data": {
      "text/html": [
       "<div>\n",
       "<style scoped>\n",
       "    .dataframe tbody tr th:only-of-type {\n",
       "        vertical-align: middle;\n",
       "    }\n",
       "\n",
       "    .dataframe tbody tr th {\n",
       "        vertical-align: top;\n",
       "    }\n",
       "\n",
       "    .dataframe thead th {\n",
       "        text-align: right;\n",
       "    }\n",
       "</style>\n",
       "<table border=\"1\" class=\"dataframe\">\n",
       "  <thead>\n",
       "    <tr style=\"text-align: right;\">\n",
       "      <th></th>\n",
       "      <th>text</th>\n",
       "      <th>generated</th>\n",
       "      <th>essay_id</th>\n",
       "    </tr>\n",
       "  </thead>\n",
       "  <tbody>\n",
       "    <tr>\n",
       "      <th>11</th>\n",
       "      <td>Dear Senator,\\r\\n\\r\\nI am writing to you today...</td>\n",
       "      <td>1</td>\n",
       "      <td>202237ae</td>\n",
       "    </tr>\n",
       "    <tr>\n",
       "      <th>584</th>\n",
       "      <td>Dear Senator,\\r\\n\\r\\nI am writing to you today...</td>\n",
       "      <td>1</td>\n",
       "      <td>b38239aa</td>\n",
       "    </tr>\n",
       "    <tr>\n",
       "      <th>236</th>\n",
       "      <td>Dear Senator,\\r\\n\\r\\nI am writing to you today...</td>\n",
       "      <td>1</td>\n",
       "      <td>97c9356c</td>\n",
       "    </tr>\n",
       "  </tbody>\n",
       "</table>\n",
       "</div>"
      ],
      "text/plain": [
       "                                                  text  generated  essay_id\n",
       "11   Dear Senator,\\r\\n\\r\\nI am writing to you today...          1  202237ae\n",
       "584  Dear Senator,\\r\\n\\r\\nI am writing to you today...          1  b38239aa\n",
       "236  Dear Senator,\\r\\n\\r\\nI am writing to you today...          1  97c9356c"
      ]
     },
     "metadata": {},
     "output_type": "display_data"
    }
   ],
   "source": [
    "import pandas as pd,uuid\n",
    "\n",
    "\n",
    "\"\"\"\n",
    "Original DataFrames can be found:\n",
    "    https://github.com/aueb-data-science/eda-llm-2023/tree/main/PaLM\n",
    "    \n",
    "Be mindful, that this github repo. needs access privileges!!\n",
    "\"\"\"\n",
    "\n",
    "cars_palm = pd.read_csv(\"../A3_csv/eda-llm-2023/PaLM/cars_generated.csv\")\n",
    "\n",
    "# Randomly select samples to match 22% of each dataframe\n",
    "cars_palm = cars_palm.drop(\n",
    "    columns=cars_palm.columns[0])# Drop the unamed column \n",
    "cars_palm = cars_palm.sample(frac=1, random_state=42)\n",
    "\n",
    "elect_palm = pd.read_csv(\"../A3_csv/eda-llm-2023/PaLM/elections_generated.csv\")\n",
    "elect_palm = elect_palm.sample(frac=1, random_state=42)\n",
    "elect_palm = elect_palm.drop(\n",
    "    columns=elect_palm.columns[0])# Drop the unamed column \n",
    "\n",
    "print(f\"Shape for cars dataframe is : {cars_palm.shape}\")\n",
    "print(f\"Shape for elections dataframe is : {elect_palm.shape}\")\n",
    "\n",
    "\n",
    "def add_ids(df: pd.DataFrame):\n",
    "    df['essay_id'] = [str(uuid.uuid4())[:8] for _ in range(len(df))]\n",
    "    display(df.sample(3))\n",
    "    return df\n",
    "\n",
    "cars_palm = add_ids(cars_palm)\n",
    "elect_palm = add_ids(elect_palm)"
   ]
  },
  {
   "cell_type": "code",
   "execution_count": null,
   "id": "a78b299e",
   "metadata": {},
   "outputs": [],
   "source": []
  },
  {
   "cell_type": "code",
   "execution_count": 4,
   "id": "9a6674d9",
   "metadata": {},
   "outputs": [
    {
     "data": {
      "text/html": [
       "<div>\n",
       "<style scoped>\n",
       "    .dataframe tbody tr th:only-of-type {\n",
       "        vertical-align: middle;\n",
       "    }\n",
       "\n",
       "    .dataframe tbody tr th {\n",
       "        vertical-align: top;\n",
       "    }\n",
       "\n",
       "    .dataframe thead th {\n",
       "        text-align: right;\n",
       "    }\n",
       "</style>\n",
       "<table border=\"1\" class=\"dataframe\">\n",
       "  <thead>\n",
       "    <tr style=\"text-align: right;\">\n",
       "      <th></th>\n",
       "      <th>text</th>\n",
       "      <th>generated</th>\n",
       "      <th>essay_id</th>\n",
       "      <th>prompt_id</th>\n",
       "    </tr>\n",
       "  </thead>\n",
       "  <tbody>\n",
       "    <tr>\n",
       "      <th>139</th>\n",
       "      <td>NaN</td>\n",
       "      <td>1</td>\n",
       "      <td>a5534cf4</td>\n",
       "      <td>1</td>\n",
       "    </tr>\n",
       "  </tbody>\n",
       "</table>\n",
       "</div>"
      ],
      "text/plain": [
       "    text  generated  essay_id  prompt_id\n",
       "139  NaN          1  a5534cf4          1"
      ]
     },
     "execution_count": 4,
     "metadata": {},
     "output_type": "execute_result"
    }
   ],
   "source": [
    "import numpy as np\n",
    "\n",
    "\n",
    "cars_palm[\"prompt_id\"] = np.zeros(len(cars_palm), dtype=int)\n",
    "\n",
    "\n",
    "\n",
    "elect_palm[\"prompt_id\"] = np.ones(len(elect_palm), dtype=int)\n",
    "\n",
    "elect_palm.sample()\n"
   ]
  },
  {
   "cell_type": "code",
   "execution_count": 5,
   "id": "aeb49678",
   "metadata": {},
   "outputs": [
    {
     "data": {
      "text/html": [
       "<div>\n",
       "<style scoped>\n",
       "    .dataframe tbody tr th:only-of-type {\n",
       "        vertical-align: middle;\n",
       "    }\n",
       "\n",
       "    .dataframe tbody tr th {\n",
       "        vertical-align: top;\n",
       "    }\n",
       "\n",
       "    .dataframe thead th {\n",
       "        text-align: right;\n",
       "    }\n",
       "</style>\n",
       "<table border=\"1\" class=\"dataframe\">\n",
       "  <thead>\n",
       "    <tr style=\"text-align: right;\">\n",
       "      <th></th>\n",
       "      <th>text</th>\n",
       "      <th>generated</th>\n",
       "      <th>essay_id</th>\n",
       "      <th>prompt_id</th>\n",
       "    </tr>\n",
       "  </thead>\n",
       "  <tbody>\n",
       "    <tr>\n",
       "      <th>434</th>\n",
       "      <td>Cars have become a necessity in modern society...</td>\n",
       "      <td>1</td>\n",
       "      <td>9dea7a4e</td>\n",
       "      <td>0</td>\n",
       "    </tr>\n",
       "  </tbody>\n",
       "</table>\n",
       "</div>"
      ],
      "text/plain": [
       "                                                  text  generated  essay_id  \\\n",
       "434  Cars have become a necessity in modern society...          1  9dea7a4e   \n",
       "\n",
       "     prompt_id  \n",
       "434          0  "
      ]
     },
     "execution_count": 5,
     "metadata": {},
     "output_type": "execute_result"
    }
   ],
   "source": [
    "cars_palm.sample()"
   ]
  },
  {
   "cell_type": "code",
   "execution_count": 7,
   "id": "224b1cb7",
   "metadata": {},
   "outputs": [
    {
     "name": "stdout",
     "output_type": "stream",
     "text": [
      "Data with students essays has a shape of: (1378, 4)\n"
     ]
    },
    {
     "data": {
      "text/html": [
       "<div>\n",
       "<style scoped>\n",
       "    .dataframe tbody tr th:only-of-type {\n",
       "        vertical-align: middle;\n",
       "    }\n",
       "\n",
       "    .dataframe tbody tr th {\n",
       "        vertical-align: top;\n",
       "    }\n",
       "\n",
       "    .dataframe thead th {\n",
       "        text-align: right;\n",
       "    }\n",
       "</style>\n",
       "<table border=\"1\" class=\"dataframe\">\n",
       "  <thead>\n",
       "    <tr style=\"text-align: right;\">\n",
       "      <th></th>\n",
       "      <th>essay_id</th>\n",
       "      <th>prompt_id</th>\n",
       "      <th>text</th>\n",
       "      <th>generated</th>\n",
       "    </tr>\n",
       "  </thead>\n",
       "  <tbody>\n",
       "    <tr>\n",
       "      <th>177</th>\n",
       "      <td>228a014b</td>\n",
       "      <td>1</td>\n",
       "      <td>Dear my Senator, whats the point in voting if ...</td>\n",
       "      <td>0</td>\n",
       "    </tr>\n",
       "  </tbody>\n",
       "</table>\n",
       "</div>"
      ],
      "text/plain": [
       "     essay_id  prompt_id                                               text  \\\n",
       "177  228a014b          1  Dear my Senator, whats the point in voting if ...   \n",
       "\n",
       "     generated  \n",
       "177          0  "
      ]
     },
     "execution_count": 7,
     "metadata": {},
     "output_type": "execute_result"
    }
   ],
   "source": [
    "import pandas as pd\n",
    "# Import the csv we the essays\n",
    "\n",
    "data = pd.read_csv(\"../A3_csv/train_essays.csv\")\n",
    "\n",
    "print(f\"Data with students essays has a shape of: {data.shape}\")\n",
    "\n",
    "# Rename the 'old_column_name' to 'new_column_name'\n",
    "data.rename(columns={'id': 'essay_id'}, inplace=True)\n",
    "\n",
    "data.sample()"
   ]
  },
  {
   "cell_type": "code",
   "execution_count": 8,
   "id": "2f3907bd",
   "metadata": {},
   "outputs": [],
   "source": [
    "def concat_df(df1, df2):\n",
    "    \"\"\"\n",
    "    Concatenate specified columns from two DataFrames.\n",
    "    \n",
    "    @param df1 (pd.DataFrame): First DataFrame\n",
    "    @param df2 (pd.DataFrame): Second DataFrame\n",
    "    @param columns_to_concat (list): List of column names to concatenate\n",
    "\n",
    "    Returns: pd.DataFrame: Resulting DataFrame with concatenated values\n",
    "    \"\"\"\n",
    "    \n",
    "    columns_to_concat = [\"essay_id\",\"prompt_id\", \"text\", \"generated\"]\n",
    "\n",
    "    # Create an empty DataFrame with specified columns\n",
    "    augmented_data = pd.DataFrame(columns=columns_to_concat)\n",
    "\n",
    "    # Concatenate specified columns from the two DataFrames\n",
    "    for column in columns_to_concat:\n",
    "        augmented_data[column] = pd.concat([df1[column], df2[column]], axis=0, ignore_index=True)\n",
    "\n",
    "    return augmented_data"
   ]
  },
  {
   "cell_type": "code",
   "execution_count": 9,
   "id": "6dc4e5e1",
   "metadata": {},
   "outputs": [
    {
     "data": {
      "text/plain": [
       "prompt_id\n",
       "0    2083\n",
       "1    2045\n",
       "Name: count, dtype: int64"
      ]
     },
     "execution_count": 9,
     "metadata": {},
     "output_type": "execute_result"
    }
   ],
   "source": [
    "aug_df = concat_df(cars_palm,data)\n",
    "aug_df.shape\n",
    "\n",
    "aug_df = concat_df(aug_df,elect_palm)\n",
    "aug_df.shape\n",
    "\n",
    "aug_df.prompt_id.value_counts()"
   ]
  },
  {
   "cell_type": "code",
   "execution_count": 12,
   "id": "dc3f18f6",
   "metadata": {},
   "outputs": [],
   "source": [
    "aug_df.to_csv(\"../A3_csv/eda-llm-2023_train.csv\", index=False)"
   ]
  },
  {
   "cell_type": "code",
   "execution_count": 37,
   "id": "fdf11eb9",
   "metadata": {},
   "outputs": [
    {
     "data": {
      "text/html": [
       "<div>\n",
       "<style scoped>\n",
       "    .dataframe tbody tr th:only-of-type {\n",
       "        vertical-align: middle;\n",
       "    }\n",
       "\n",
       "    .dataframe tbody tr th {\n",
       "        vertical-align: top;\n",
       "    }\n",
       "\n",
       "    .dataframe thead th {\n",
       "        text-align: right;\n",
       "    }\n",
       "</style>\n",
       "<table border=\"1\" class=\"dataframe\">\n",
       "  <thead>\n",
       "    <tr style=\"text-align: right;\">\n",
       "      <th></th>\n",
       "      <th>id</th>\n",
       "      <th>prompt_id</th>\n",
       "      <th>prompt</th>\n",
       "      <th>text</th>\n",
       "      <th>model</th>\n",
       "      <th>temperature</th>\n",
       "      <th>exam_type</th>\n",
       "      <th>score</th>\n",
       "      <th>score_level</th>\n",
       "    </tr>\n",
       "  </thead>\n",
       "  <tbody>\n",
       "    <tr>\n",
       "      <th>3321</th>\n",
       "      <td>gre_574</td>\n",
       "      <td>GRE-663</td>\n",
       "      <td>There are two types of laws: just and unjust. ...</td>\n",
       "      <td>I agree with the notion that individuals in a ...</td>\n",
       "      <td>text-davinci-003</td>\n",
       "      <td>0.8</td>\n",
       "      <td>gre</td>\n",
       "      <td>5</td>\n",
       "      <td>high</td>\n",
       "    </tr>\n",
       "  </tbody>\n",
       "</table>\n",
       "</div>"
      ],
      "text/plain": [
       "           id prompt_id                                             prompt  \\\n",
       "3321  gre_574   GRE-663  There are two types of laws: just and unjust. ...   \n",
       "\n",
       "                                                   text             model  \\\n",
       "3321  I agree with the notion that individuals in a ...  text-davinci-003   \n",
       "\n",
       "      temperature exam_type  score score_level  \n",
       "3321          0.8       gre      5        high  "
      ]
     },
     "metadata": {},
     "output_type": "display_data"
    },
    {
     "data": {
      "text/html": [
       "<div>\n",
       "<style scoped>\n",
       "    .dataframe tbody tr th:only-of-type {\n",
       "        vertical-align: middle;\n",
       "    }\n",
       "\n",
       "    .dataframe tbody tr th {\n",
       "        vertical-align: top;\n",
       "    }\n",
       "\n",
       "    .dataframe thead th {\n",
       "        text-align: right;\n",
       "    }\n",
       "</style>\n",
       "<table border=\"1\" class=\"dataframe\">\n",
       "  <thead>\n",
       "    <tr style=\"text-align: right;\">\n",
       "      <th></th>\n",
       "      <th>essay_id</th>\n",
       "      <th>prompt_id</th>\n",
       "      <th>prompt</th>\n",
       "      <th>text</th>\n",
       "      <th>model</th>\n",
       "      <th>temperature</th>\n",
       "      <th>exam_type</th>\n",
       "      <th>score</th>\n",
       "      <th>score_level</th>\n",
       "    </tr>\n",
       "  </thead>\n",
       "  <tbody>\n",
       "    <tr>\n",
       "      <th>79</th>\n",
       "      <td>weccl_441</td>\n",
       "      <td>WECCL-17</td>\n",
       "      <td>Some people think the university education is ...</td>\n",
       "      <td>There is no one answer to this question as the...</td>\n",
       "      <td>text-davinci-001</td>\n",
       "      <td>0.8</td>\n",
       "      <td>weccl</td>\n",
       "      <td>17</td>\n",
       "      <td>medium</td>\n",
       "    </tr>\n",
       "  </tbody>\n",
       "</table>\n",
       "</div>"
      ],
      "text/plain": [
       "     essay_id prompt_id                                             prompt  \\\n",
       "79  weccl_441  WECCL-17  Some people think the university education is ...   \n",
       "\n",
       "                                                 text             model  \\\n",
       "79  There is no one answer to this question as the...  text-davinci-001   \n",
       "\n",
       "    temperature exam_type  score score_level  \n",
       "79          0.8     weccl     17      medium  "
      ]
     },
     "metadata": {},
     "output_type": "display_data"
    },
    {
     "name": "stdout",
     "output_type": "stream",
     "text": [
      "generated\n",
      "1    334\n",
      "Name: count, dtype: int64\n"
     ]
    },
    {
     "data": {
      "text/plain": [
       "(2316, 4)"
      ]
     },
     "execution_count": 37,
     "metadata": {},
     "output_type": "execute_result"
    }
   ],
   "source": [
    "import pandas as pd\n",
    "\n",
    "\"\"\"\n",
    "Original DataFrame can be found:\n",
    "    https://www.kaggle.com/datasets/alejopaullier/argugpt\n",
    "\"\"\"\n",
    "\n",
    "\n",
    "machine = pd.read_csv(\"A3_csv/machine/machine-train.csv\")\n",
    "\n",
    "display(machine.sample())\n",
    "machine.rename(columns={'id':'essay_id'}, inplace=True)\n",
    "display(machine.sample())\n",
    "\n",
    "\n",
    "# Select random samples to reach the 10% of the original DataFrame\n",
    "machine = machine.sample(frac=0.10, random_state=42)\n",
    "machine[\"generated\"] = np.ones(len(machine), dtype=int)\n",
    "\n",
    "print(machine.generated.value_counts())\n",
    "\n",
    "\n",
    "aug_df = concat_df(aug_df, machine)\n",
    "aug_df.shape\n"
   ]
  },
  {
   "cell_type": "code",
   "execution_count": 5,
   "id": "7c86747e",
   "metadata": {},
   "outputs": [
    {
     "data": {
      "text/html": [
       "<div>\n",
       "<style scoped>\n",
       "    .dataframe tbody tr th:only-of-type {\n",
       "        vertical-align: middle;\n",
       "    }\n",
       "\n",
       "    .dataframe tbody tr th {\n",
       "        vertical-align: top;\n",
       "    }\n",
       "\n",
       "    .dataframe thead th {\n",
       "        text-align: right;\n",
       "    }\n",
       "</style>\n",
       "<table border=\"1\" class=\"dataframe\">\n",
       "  <thead>\n",
       "    <tr style=\"text-align: right;\">\n",
       "      <th></th>\n",
       "      <th>text</th>\n",
       "      <th>generated</th>\n",
       "      <th>source</th>\n",
       "      <th>fold</th>\n",
       "      <th>prompt_id</th>\n",
       "      <th>essay_id</th>\n",
       "      <th>generated</th>\n",
       "      <th>token_text</th>\n",
       "      <th>max_jaccard_sim</th>\n",
       "      <th>avg_jaccard_sim</th>\n",
       "    </tr>\n",
       "  </thead>\n",
       "  <tbody>\n",
       "    <tr>\n",
       "      <th>496</th>\n",
       "      <td>One famous individuals achieved success unapol...</td>\n",
       "      <td>1</td>\n",
       "      <td>chat_gpt_moth</td>\n",
       "      <td>3</td>\n",
       "      <td>2377</td>\n",
       "      <td>571c7b29-95d1-4359-af62-541b6bdf2709</td>\n",
       "      <td>fake</td>\n",
       "      <td>['One', 'famous', 'individuals', 'achieved', '...</td>\n",
       "      <td>0.1</td>\n",
       "      <td>0.042113</td>\n",
       "    </tr>\n",
       "  </tbody>\n",
       "</table>\n",
       "</div>"
      ],
      "text/plain": [
       "                                                  text generated  \\\n",
       "496  One famous individuals achieved success unapol...         1   \n",
       "\n",
       "            source  fold  prompt_id                              essay_id  \\\n",
       "496  chat_gpt_moth     3       2377  571c7b29-95d1-4359-af62-541b6bdf2709   \n",
       "\n",
       "    generated                                         token_text  \\\n",
       "496      fake  ['One', 'famous', 'individuals', 'achieved', '...   \n",
       "\n",
       "     max_jaccard_sim  avg_jaccard_sim  \n",
       "496              0.1         0.042113  "
      ]
     },
     "metadata": {},
     "output_type": "display_data"
    },
    {
     "name": "stdout",
     "output_type": "stream",
     "text": [
      "Name is: train_drcat_01\n"
     ]
    },
    {
     "data": {
      "text/html": [
       "<div>\n",
       "<style scoped>\n",
       "    .dataframe tbody tr th:only-of-type {\n",
       "        vertical-align: middle;\n",
       "    }\n",
       "\n",
       "    .dataframe tbody tr th {\n",
       "        vertical-align: top;\n",
       "    }\n",
       "\n",
       "    .dataframe thead th {\n",
       "        text-align: right;\n",
       "    }\n",
       "</style>\n",
       "<table border=\"1\" class=\"dataframe\">\n",
       "  <thead>\n",
       "    <tr style=\"text-align: right;\">\n",
       "      <th></th>\n",
       "      <th>essay_id</th>\n",
       "      <th>text</th>\n",
       "      <th>generated</th>\n",
       "      <th>source</th>\n",
       "      <th>prompt_id</th>\n",
       "      <th>fold</th>\n",
       "      <th>generated</th>\n",
       "      <th>token_text</th>\n",
       "      <th>max_jaccard_sim</th>\n",
       "      <th>avg_jaccard_sim</th>\n",
       "    </tr>\n",
       "  </thead>\n",
       "  <tbody>\n",
       "    <tr>\n",
       "      <th>3154</th>\n",
       "      <td>8af49442-e903-4b23-bcea-ff0e32090774</td>\n",
       "      <td>Benefits Attending School versus Completing Sc...</td>\n",
       "      <td>1</td>\n",
       "      <td>llammistral7binstruct</td>\n",
       "      <td>12405</td>\n",
       "      <td>1</td>\n",
       "      <td>fake</td>\n",
       "      <td>['Benefits', 'Attending', 'School', 'versus', ...</td>\n",
       "      <td>0.170616</td>\n",
       "      <td>0.041674</td>\n",
       "    </tr>\n",
       "  </tbody>\n",
       "</table>\n",
       "</div>"
      ],
      "text/plain": [
       "                                  essay_id  \\\n",
       "3154  8af49442-e903-4b23-bcea-ff0e32090774   \n",
       "\n",
       "                                                   text generated  \\\n",
       "3154  Benefits Attending School versus Completing Sc...         1   \n",
       "\n",
       "                     source  prompt_id  fold generated  \\\n",
       "3154  llammistral7binstruct      12405     1      fake   \n",
       "\n",
       "                                             token_text  max_jaccard_sim  \\\n",
       "3154  ['Benefits', 'Attending', 'School', 'versus', ...         0.170616   \n",
       "\n",
       "      avg_jaccard_sim  \n",
       "3154         0.041674  "
      ]
     },
     "metadata": {},
     "output_type": "display_data"
    },
    {
     "name": "stdout",
     "output_type": "stream",
     "text": [
      "Name is: train_drcat_02\n"
     ]
    },
    {
     "data": {
      "text/html": [
       "<div>\n",
       "<style scoped>\n",
       "    .dataframe tbody tr th:only-of-type {\n",
       "        vertical-align: middle;\n",
       "    }\n",
       "\n",
       "    .dataframe tbody tr th {\n",
       "        vertical-align: top;\n",
       "    }\n",
       "\n",
       "    .dataframe thead th {\n",
       "        text-align: right;\n",
       "    }\n",
       "</style>\n",
       "<table border=\"1\" class=\"dataframe\">\n",
       "  <thead>\n",
       "    <tr style=\"text-align: right;\">\n",
       "      <th></th>\n",
       "      <th>essay_id</th>\n",
       "      <th>text</th>\n",
       "      <th>generated</th>\n",
       "      <th>source</th>\n",
       "      <th>prompt_id</th>\n",
       "      <th>fold</th>\n",
       "      <th>generated</th>\n",
       "      <th>token_text</th>\n",
       "      <th>max_jaccard_sim</th>\n",
       "      <th>avg_jaccard_sim</th>\n",
       "    </tr>\n",
       "  </thead>\n",
       "  <tbody>\n",
       "    <tr>\n",
       "      <th>9500</th>\n",
       "      <td>ce03e0a9-34f4-4261-8c35-3004004fbe8a</td>\n",
       "      <td>Ralph Waldo Emerson famous American essayist p...</td>\n",
       "      <td>1</td>\n",
       "      <td>mistral7binstruct_v1</td>\n",
       "      <td>32193</td>\n",
       "      <td>2</td>\n",
       "      <td>fake</td>\n",
       "      <td>['Ralph', 'Waldo', 'Emerson', 'famous', 'Ameri...</td>\n",
       "      <td>0.160784</td>\n",
       "      <td>0.054111</td>\n",
       "    </tr>\n",
       "  </tbody>\n",
       "</table>\n",
       "</div>"
      ],
      "text/plain": [
       "                                  essay_id  \\\n",
       "9500  ce03e0a9-34f4-4261-8c35-3004004fbe8a   \n",
       "\n",
       "                                                   text generated  \\\n",
       "9500  Ralph Waldo Emerson famous American essayist p...         1   \n",
       "\n",
       "                    source  prompt_id  fold generated  \\\n",
       "9500  mistral7binstruct_v1      32193     2      fake   \n",
       "\n",
       "                                             token_text  max_jaccard_sim  \\\n",
       "9500  ['Ralph', 'Waldo', 'Emerson', 'famous', 'Ameri...         0.160784   \n",
       "\n",
       "      avg_jaccard_sim  \n",
       "9500         0.054111  "
      ]
     },
     "metadata": {},
     "output_type": "display_data"
    },
    {
     "name": "stdout",
     "output_type": "stream",
     "text": [
      "Name is: train_drcat_03\n"
     ]
    },
    {
     "data": {
      "text/html": [
       "<div>\n",
       "<style scoped>\n",
       "    .dataframe tbody tr th:only-of-type {\n",
       "        vertical-align: middle;\n",
       "    }\n",
       "\n",
       "    .dataframe tbody tr th {\n",
       "        vertical-align: top;\n",
       "    }\n",
       "\n",
       "    .dataframe thead th {\n",
       "        text-align: right;\n",
       "    }\n",
       "</style>\n",
       "<table border=\"1\" class=\"dataframe\">\n",
       "  <thead>\n",
       "    <tr style=\"text-align: right;\">\n",
       "      <th></th>\n",
       "      <th>essay_id</th>\n",
       "      <th>text</th>\n",
       "      <th>generated</th>\n",
       "      <th>source</th>\n",
       "      <th>prompt_id</th>\n",
       "      <th>fold</th>\n",
       "      <th>generated</th>\n",
       "      <th>token_text</th>\n",
       "      <th>max_jaccard_sim</th>\n",
       "      <th>avg_jaccard_sim</th>\n",
       "    </tr>\n",
       "  </thead>\n",
       "  <tbody>\n",
       "    <tr>\n",
       "      <th>14240</th>\n",
       "      <td>81B7A7CB8829</td>\n",
       "      <td>Hey essay 'm gon na talk people rose hardship ...</td>\n",
       "      <td>1</td>\n",
       "      <td>llama2_chat</td>\n",
       "      <td>53</td>\n",
       "      <td>3</td>\n",
       "      <td>fake</td>\n",
       "      <td>['Hey', 'essay', \"'m\", 'gon', 'na', 'talk', 'p...</td>\n",
       "      <td>0.175115</td>\n",
       "      <td>0.07049</td>\n",
       "    </tr>\n",
       "  </tbody>\n",
       "</table>\n",
       "</div>"
      ],
      "text/plain": [
       "           essay_id                                               text  \\\n",
       "14240  81B7A7CB8829  Hey essay 'm gon na talk people rose hardship ...   \n",
       "\n",
       "      generated       source  prompt_id  fold generated  \\\n",
       "14240         1  llama2_chat         53     3      fake   \n",
       "\n",
       "                                              token_text  max_jaccard_sim  \\\n",
       "14240  ['Hey', 'essay', \"'m\", 'gon', 'na', 'talk', 'p...         0.175115   \n",
       "\n",
       "       avg_jaccard_sim  \n",
       "14240          0.07049  "
      ]
     },
     "metadata": {},
     "output_type": "display_data"
    },
    {
     "name": "stdout",
     "output_type": "stream",
     "text": [
      "Name is: train_drcat_04\n"
     ]
    }
   ],
   "source": [
    "import pandas as pd, uuid\n",
    "\"\"\"\n",
    "Original DataFrame can be found:\n",
    "    https://www.kaggle.com/datasets/thedrcat/daigt-proper-train-dataset\n",
    "    \n",
    "This dataset already has labeled 1 as generated and 0 as students\n",
    "so there is not need to add another column.\n",
    "For this dataset, prompt_id values are encoded starting from 3.\n",
    "This choice is made to avoid using 0 and 1,\n",
    "which have special meanings for this task\n",
    "\n",
    "So, prompt_id values are incremented by 3.ii\n",
    "\n",
    "\"\"\"\n",
    "\n",
    "\n",
    "\n",
    "\n",
    "# Function to change column names and provid  a uuid    \n",
    "def read_process_csv(data):\n",
    "    \"\"\"\n",
    "    Process a DataFrame, including column renaming and adding a uuid column.\n",
    "    @param: data (pd.DataFrame): Input DataFrame to be processed.\n",
    "    @param: (str): Name of the file or dataset for identification.\n",
    "    Returns: pd.DataFrame: Processed DataFrame.\n",
    "    \"\"\"\n",
    "    \n",
    "    # Rename columns in order to handle missmatching errors in df concatination\n",
    "    data.rename(columns={'label': 'generated', 'prompt': 'prompt_id'}, inplace=True)\n",
    "    display(data.sample())\n",
    "    data['essay_id'] = [str(uuid.uuid4()) for _ in range(len(data))]\n",
    "    # Check if 'prompt_id' column exists\n",
    "    if 'prompt_id' not in data.columns:\n",
    "        # Create a new 'prompt_id' column with UUIDs\n",
    "        data['prompt_id'] = [str(uuid.uuid4()) for _ in range(len(data))]\n",
    "    else:\n",
    "        # Check if 'prompt_id' column is not empty before factorizing\n",
    "        if not data['prompt_id'].empty:\n",
    "            # Change the unique values of prompt_id; there were strings initially\n",
    "            data['prompt_id'] = pd.factorize(data['prompt_id'])[0] + 3\n",
    "    print(f\"Name is: {name}\")\n",
    "    data.to_csv(f\"../A3_csv/drcat/{name}.csv\", index=False)\n",
    "\n",
    "# Initialize a dictionary to store the file names:\n",
    "file_names = [\"train_drcat_01\", \"train_drcat_02\",  \"train_drcat_03\",  \"train_drcat_04\" ]\n",
    "\n",
    "\n",
    "# Iterate over names to create the datasets    \n",
    "for name in file_names:\n",
    "    data = pd.read_csv(f\"../A3_csv/drcat/{name}.csv\")\n",
    "    read_process_csv(data)\n"
   ]
  },
  {
   "cell_type": "code",
   "execution_count": 2,
   "id": "10152aff",
   "metadata": {},
   "outputs": [
    {
     "data": {
      "text/html": [
       "<div>\n",
       "<style scoped>\n",
       "    .dataframe tbody tr th:only-of-type {\n",
       "        vertical-align: middle;\n",
       "    }\n",
       "\n",
       "    .dataframe tbody tr th {\n",
       "        vertical-align: top;\n",
       "    }\n",
       "\n",
       "    .dataframe thead th {\n",
       "        text-align: right;\n",
       "    }\n",
       "</style>\n",
       "<table border=\"1\" class=\"dataframe\">\n",
       "  <thead>\n",
       "    <tr style=\"text-align: right;\">\n",
       "      <th></th>\n",
       "      <th>id</th>\n",
       "      <th>prompt_id</th>\n",
       "      <th>text</th>\n",
       "    </tr>\n",
       "  </thead>\n",
       "  <tbody>\n",
       "    <tr>\n",
       "      <th>0</th>\n",
       "      <td>weccl_45</td>\n",
       "      <td>WECCL-17</td>\n",
       "      <td>There are many different opinions on whether o...</td>\n",
       "    </tr>\n",
       "    <tr>\n",
       "      <th>1</th>\n",
       "      <td>weccl_264</td>\n",
       "      <td>WECCL-17</td>\n",
       "      <td>The university education is not only for prepa...</td>\n",
       "    </tr>\n",
       "    <tr>\n",
       "      <th>2</th>\n",
       "      <td>weccl_648</td>\n",
       "      <td>WECCL-17</td>\n",
       "      <td>University education is a contentious issue, w...</td>\n",
       "    </tr>\n",
       "    <tr>\n",
       "      <th>3</th>\n",
       "      <td>weccl_741</td>\n",
       "      <td>WECCL-17</td>\n",
       "      <td>University education has always been a topic o...</td>\n",
       "    </tr>\n",
       "    <tr>\n",
       "      <th>4</th>\n",
       "      <td>weccl_3024</td>\n",
       "      <td>WECCL-17</td>\n",
       "      <td>The college is not only a time of preparition ...</td>\n",
       "    </tr>\n",
       "    <tr>\n",
       "      <th>...</th>\n",
       "      <td>...</td>\n",
       "      <td>...</td>\n",
       "      <td>...</td>\n",
       "    </tr>\n",
       "    <tr>\n",
       "      <th>4033</th>\n",
       "      <td>gre_514</td>\n",
       "      <td>GRE-603</td>\n",
       "      <td>The notion that one must be forced to defend a...</td>\n",
       "    </tr>\n",
       "    <tr>\n",
       "      <th>4034</th>\n",
       "      <td>gre_1107</td>\n",
       "      <td>GRE-604</td>\n",
       "      <td>I strongly agree with the statement that menta...</td>\n",
       "    </tr>\n",
       "    <tr>\n",
       "      <th>4035</th>\n",
       "      <td>gre_1163</td>\n",
       "      <td>GRE-660</td>\n",
       "      <td>In today’s world, where competition is highly ...</td>\n",
       "    </tr>\n",
       "    <tr>\n",
       "      <th>4036</th>\n",
       "      <td>gre_1174</td>\n",
       "      <td>GRE-671</td>\n",
       "      <td>Education is one of the most powerful tools th...</td>\n",
       "    </tr>\n",
       "    <tr>\n",
       "      <th>4037</th>\n",
       "      <td>gre_1180</td>\n",
       "      <td>GRE-677</td>\n",
       "      <td>As the world is evolving rapidly, the need for...</td>\n",
       "    </tr>\n",
       "  </tbody>\n",
       "</table>\n",
       "<p>8076 rows × 3 columns</p>\n",
       "</div>"
      ],
      "text/plain": [
       "              id prompt_id                                               text\n",
       "0       weccl_45  WECCL-17  There are many different opinions on whether o...\n",
       "1      weccl_264  WECCL-17  The university education is not only for prepa...\n",
       "2      weccl_648  WECCL-17  University education is a contentious issue, w...\n",
       "3      weccl_741  WECCL-17  University education has always been a topic o...\n",
       "4     weccl_3024  WECCL-17  The college is not only a time of preparition ...\n",
       "...          ...       ...                                                ...\n",
       "4033     gre_514   GRE-603  The notion that one must be forced to defend a...\n",
       "4034    gre_1107   GRE-604  I strongly agree with the statement that menta...\n",
       "4035    gre_1163   GRE-660  In today’s world, where competition is highly ...\n",
       "4036    gre_1174   GRE-671  Education is one of the most powerful tools th...\n",
       "4037    gre_1180   GRE-677  As the world is evolving rapidly, the need for...\n",
       "\n",
       "[8076 rows x 3 columns]"
      ]
     },
     "metadata": {},
     "output_type": "display_data"
    }
   ],
   "source": [
    "import pandas as pd\n",
    "\n",
    "# Read the dataframes\n",
    "machine_test = pd.read_csv(\"../A3_csv/machine/machine-test.csv\")\n",
    "machine_dev = pd.read_csv(\"../A3_csv/machine/machine-dev.csv\")\n",
    "machine_train = pd.read_csv(\"../A3_csv/machine/machine-train.csv\")\n",
    "argu_gpt = pd.read_csv(\"../A3_csv/machine/argugpt.csv\")\n",
    "# display(machine_test, machine_dev, machine_train)\n",
    "# Concatenate dataframes along rows\n",
    "concatenated_df = pd.concat([machine_test[['id', 'prompt_id', 'text']],\n",
    "                             machine_dev[['id', 'prompt_id', 'text']],\n",
    "                             machine_train[['id', 'prompt_id', 'text']],\n",
    "                             argu_gpt[['id', 'prompt_id', 'text']]])\n",
    "\n",
    "# Display the concatenated dataframe\n",
    "display(concatenated_df)\n",
    "\n",
    "concatenated_df.to_csv(\"../A3_csv/machine/machine_concat.csv\", index=False)"
   ]
  },
  {
   "cell_type": "code",
   "execution_count": 40,
   "id": "a62e7bff",
   "metadata": {},
   "outputs": [
    {
     "data": {
      "text/plain": [
       "(4968, 4)"
      ]
     },
     "execution_count": 40,
     "metadata": {},
     "output_type": "execute_result"
    }
   ],
   "source": [
    "aug_df = concat_df(aug_df, drcat)\n",
    "aug_df.shape\n"
   ]
  },
  {
   "cell_type": "code",
   "execution_count": 41,
   "id": "3fa07b80",
   "metadata": {},
   "outputs": [],
   "source": [
    "\"\"\"\n",
    "Original DataFrame can be found:\n",
    "    data_generation_LM.ipynib\n",
    "\"\"\"\n",
    "\n",
    "lm_cars = pd.read_csv(\"A3_csv/lm_generated_cars.csv\")\n",
    "lm_cities = pd.read_csv(\"A3_csv/lm_generated_cities.csv\")\n",
    "\n",
    "lm_concat = concat_df(lm_cars, lm_cities)"
   ]
  },
  {
   "cell_type": "code",
   "execution_count": 42,
   "id": "836d0dfa",
   "metadata": {},
   "outputs": [
    {
     "data": {
      "text/html": [
       "<div>\n",
       "<style scoped>\n",
       "    .dataframe tbody tr th:only-of-type {\n",
       "        vertical-align: middle;\n",
       "    }\n",
       "\n",
       "    .dataframe tbody tr th {\n",
       "        vertical-align: top;\n",
       "    }\n",
       "\n",
       "    .dataframe thead th {\n",
       "        text-align: right;\n",
       "    }\n",
       "</style>\n",
       "<table border=\"1\" class=\"dataframe\">\n",
       "  <thead>\n",
       "    <tr style=\"text-align: right;\">\n",
       "      <th></th>\n",
       "      <th>essay_id</th>\n",
       "      <th>prompt_id</th>\n",
       "      <th>text</th>\n",
       "      <th>generated</th>\n",
       "    </tr>\n",
       "  </thead>\n",
       "  <tbody>\n",
       "    <tr>\n",
       "      <th>1776</th>\n",
       "      <td>72897b46</td>\n",
       "      <td>1</td>\n",
       "      <td>Dear Senator,\\r\\n\\r\\nI am writing to you today...</td>\n",
       "      <td>1</td>\n",
       "    </tr>\n",
       "    <tr>\n",
       "      <th>550</th>\n",
       "      <td>318c7ac8</td>\n",
       "      <td>1</td>\n",
       "      <td>Dear Mr.Mrs. Senator, In light of previous res...</td>\n",
       "      <td>0</td>\n",
       "    </tr>\n",
       "    <tr>\n",
       "      <th>4200</th>\n",
       "      <td>C21E1457C1D4</td>\n",
       "      <td>2</td>\n",
       "      <td>Making Mona Lisa Smile\\n\\nMona Lisa is 83 perc...</td>\n",
       "      <td>0</td>\n",
       "    </tr>\n",
       "  </tbody>\n",
       "</table>\n",
       "</div>"
      ],
      "text/plain": [
       "          essay_id prompt_id  \\\n",
       "1776      72897b46         1   \n",
       "550       318c7ac8         1   \n",
       "4200  C21E1457C1D4         2   \n",
       "\n",
       "                                                   text  generated  \n",
       "1776  Dear Senator,\\r\\n\\r\\nI am writing to you today...          1  \n",
       "550   Dear Mr.Mrs. Senator, In light of previous res...          0  \n",
       "4200  Making Mona Lisa Smile\\n\\nMona Lisa is 83 perc...          0  "
      ]
     },
     "metadata": {},
     "output_type": "display_data"
    }
   ],
   "source": [
    "aug_df = concat_df(aug_df,lm_cars )\n",
    "aug_df.shape\n",
    "display(aug_df.sample(3))"
   ]
  },
  {
   "cell_type": "code",
   "execution_count": 43,
   "id": "387d8f44",
   "metadata": {},
   "outputs": [
    {
     "data": {
      "text/html": [
       "<div>\n",
       "<style scoped>\n",
       "    .dataframe tbody tr th:only-of-type {\n",
       "        vertical-align: middle;\n",
       "    }\n",
       "\n",
       "    .dataframe tbody tr th {\n",
       "        vertical-align: top;\n",
       "    }\n",
       "\n",
       "    .dataframe thead th {\n",
       "        text-align: right;\n",
       "    }\n",
       "</style>\n",
       "<table border=\"1\" class=\"dataframe\">\n",
       "  <thead>\n",
       "    <tr style=\"text-align: right;\">\n",
       "      <th></th>\n",
       "      <th>essay_id</th>\n",
       "      <th>prompt_id</th>\n",
       "      <th>text</th>\n",
       "      <th>generated</th>\n",
       "    </tr>\n",
       "  </thead>\n",
       "  <tbody>\n",
       "    <tr>\n",
       "      <th>0</th>\n",
       "      <td>29dc986a</td>\n",
       "      <td>0</td>\n",
       "      <td>As more and more cities start to enforce no ca...</td>\n",
       "      <td>1</td>\n",
       "    </tr>\n",
       "    <tr>\n",
       "      <th>1</th>\n",
       "      <td>4b3e15c7</td>\n",
       "      <td>0</td>\n",
       "      <td>Car usage all over the world has reduced and b...</td>\n",
       "      <td>1</td>\n",
       "    </tr>\n",
       "  </tbody>\n",
       "</table>\n",
       "</div>"
      ],
      "text/plain": [
       "   essay_id prompt_id                                               text  \\\n",
       "0  29dc986a         0  As more and more cities start to enforce no ca...   \n",
       "1  4b3e15c7         0  Car usage all over the world has reduced and b...   \n",
       "\n",
       "   generated  \n",
       "0          1  \n",
       "1          1  "
      ]
     },
     "metadata": {},
     "output_type": "display_data"
    }
   ],
   "source": [
    "# Reset indexing starting from 0\n",
    "aug_df = aug_df.reset_index(drop=True)\n",
    "display(aug_df.head(2))"
   ]
  },
  {
   "cell_type": "markdown",
   "id": "f2b29102",
   "metadata": {},
   "source": [
    "The following csv file will be used to train our classifiers for this particular task."
   ]
  },
  {
   "cell_type": "code",
   "execution_count": 44,
   "id": "ac5bda87",
   "metadata": {},
   "outputs": [],
   "source": [
    "aug_df.to_csv(\"A3_csv/combined_train.csv\", index=False)"
   ]
  },
  {
   "cell_type": "code",
   "execution_count": 45,
   "id": "f8e827ed",
   "metadata": {},
   "outputs": [
    {
     "data": {
      "text/plain": [
       "prompt_id\n",
       "2           1862\n",
       "0           1710\n",
       "1            972\n",
       "WECCL-02      30\n",
       "WECCL-17      23\n",
       "            ... \n",
       "1973           1\n",
       "465            1\n",
       "1952           1\n",
       "631            1\n",
       "2811           1\n",
       "Name: count, Length: 676, dtype: int64"
      ]
     },
     "execution_count": 45,
     "metadata": {},
     "output_type": "execute_result"
    }
   ],
   "source": [
    "aug_df.prompt_id.value_counts() # See the different themes of essays "
   ]
  },
  {
   "cell_type": "code",
   "execution_count": 46,
   "id": "ae75cae9",
   "metadata": {},
   "outputs": [
    {
     "data": {
      "text/plain": [
       "generated\n",
       "0    3133\n",
       "1    2535\n",
       "Name: count, dtype: int64"
      ]
     },
     "execution_count": 46,
     "metadata": {},
     "output_type": "execute_result"
    }
   ],
   "source": [
    "aug_df.generated.value_counts() # Balance between students and LLMs"
   ]
  },
  {
   "cell_type": "code",
   "execution_count": 47,
   "id": "bf5a108b",
   "metadata": {},
   "outputs": [
    {
     "name": "stdout",
     "output_type": "stream",
     "text": [
      "<class 'pandas.core.frame.DataFrame'>\n",
      "RangeIndex: 5668 entries, 0 to 5667\n",
      "Data columns (total 4 columns):\n",
      " #   Column     Non-Null Count  Dtype \n",
      "---  ------     --------------  ----- \n",
      " 0   essay_id   5668 non-null   object\n",
      " 1   prompt_id  5668 non-null   object\n",
      " 2   text       5548 non-null   object\n",
      " 3   generated  5668 non-null   int64 \n",
      "dtypes: int64(1), object(3)\n",
      "memory usage: 177.3+ KB\n"
     ]
    }
   ],
   "source": [
    "aug_df.info()"
   ]
  },
  {
   "cell_type": "markdown",
   "id": "021c6aed",
   "metadata": {},
   "source": [
    "### Note: "
   ]
  },
  {
   "cell_type": "markdown",
   "id": "dc107504",
   "metadata": {},
   "source": [
    "##### The resulting dataframe's 'text' column is not preprocessed!!!"
   ]
  }
 ],
 "metadata": {
  "kernelspec": {
   "display_name": "Python 3 (ipykernel)",
   "language": "python",
   "name": "python3"
  },
  "language_info": {
   "codemirror_mode": {
    "name": "ipython",
    "version": 3
   },
   "file_extension": ".py",
   "mimetype": "text/x-python",
   "name": "python",
   "nbconvert_exporter": "python",
   "pygments_lexer": "ipython3",
   "version": "3.11.5"
  }
 },
 "nbformat": 4,
 "nbformat_minor": 5
}
